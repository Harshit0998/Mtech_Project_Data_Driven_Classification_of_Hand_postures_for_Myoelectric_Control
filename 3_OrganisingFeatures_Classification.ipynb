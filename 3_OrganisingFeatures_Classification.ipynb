{
 "cells": [
  {
   "cell_type": "code",
   "execution_count": 1,
   "id": "72fab564-7063-478b-bcc8-24f7169e3d6e",
   "metadata": {},
   "outputs": [],
   "source": [
    "import joblib\n",
    "Features_Dict = joblib.load('Features_SPT.joblib')"
   ]
  },
  {
   "cell_type": "code",
   "execution_count": 2,
   "id": "45c8157c-0f44-4a58-aa92-f2d94d4f8c97",
   "metadata": {},
   "outputs": [
    {
     "data": {
      "text/plain": [
       "(77, 128)"
      ]
     },
     "execution_count": 2,
     "metadata": {},
     "output_type": "execute_result"
    }
   ],
   "source": [
    "Features_Dict['S1_T_T1'].shape"
   ]
  },
  {
   "cell_type": "code",
   "execution_count": 3,
   "id": "d82a0ef0-5a45-4506-8ae8-91e7221a1f3a",
   "metadata": {},
   "outputs": [],
   "source": [
    "import numpy as np\n",
    "import pandas as pd"
   ]
  },
  {
   "cell_type": "code",
   "execution_count": 4,
   "id": "60c4bf05-da62-46ef-98b0-0c91c146f88a",
   "metadata": {},
   "outputs": [
    {
     "data": {
      "text/plain": [
       "array(['S1_T_T1', 'S1_T_T2', 'S1_T_T3', 'S1_I_I1', 'S1_I_I2', 'S1_I_I3',\n",
       "       'S1_M_M1', 'S1_M_M2', 'S1_M_M3', 'S1_R_R1', 'S1_R_R2', 'S1_R_R3',\n",
       "       'S1_L_L1', 'S1_L_L2', 'S1_L_L3', 'S1_T_I1', 'S1_T_I2', 'S1_T_I3',\n",
       "       'S1_T_M1', 'S1_T_M2', 'S1_T_M3', 'S1_T_R1', 'S1_T_R2', 'S1_T_R3',\n",
       "       'S1_T_L1', 'S1_T_L2', 'S1_T_L3', 'S1_I_M1', 'S1_I_M2', 'S1_I_M3',\n",
       "       'S1_M_R1', 'S1_M_R2', 'S1_M_R3', 'S1_R_L1', 'S1_R_L2', 'S1_R_L3',\n",
       "       'S1_IMR1', 'S1_IMR2', 'S1_IMR3', 'S1_MRL1', 'S1_MRL2', 'S1_MRL3',\n",
       "       'S1_HC_1', 'S1_HC_2', 'S1_HC_3'], dtype='<U7')"
      ]
     },
     "execution_count": 4,
     "metadata": {},
     "output_type": "execute_result"
    }
   ],
   "source": [
    "keylist = list(Features_Dict.keys())\n",
    "keyarr = (np.array(keylist)).reshape(8,45)\n",
    "keyarr[0]"
   ]
  },
  {
   "cell_type": "code",
   "execution_count": 5,
   "id": "c627ef15-1bac-44c3-a3ff-bb8286286aa6",
   "metadata": {},
   "outputs": [],
   "source": [
    "Subject_features = {}\n",
    "for i in range(8):\n",
    "    l = []\n",
    "    for j in range(45):\n",
    "        l.append(Features_Dict[keyarr[i][j]])\n",
    "    stacked = np.vstack(l)\n",
    "    Subject_features[f'S{i+1}'] = stacked"
   ]
  },
  {
   "cell_type": "code",
   "execution_count": 6,
   "id": "6ad2e378-b100-4255-a956-263d6e33ea96",
   "metadata": {},
   "outputs": [
    {
     "data": {
      "text/plain": [
       "dict_keys(['S1', 'S2', 'S3', 'S4', 'S5', 'S6', 'S7', 'S8'])"
      ]
     },
     "execution_count": 6,
     "metadata": {},
     "output_type": "execute_result"
    }
   ],
   "source": [
    "Subject_features.keys()"
   ]
  },
  {
   "cell_type": "code",
   "execution_count": 7,
   "id": "2d55a9dd-b83d-45d7-a4cf-5114beee751c",
   "metadata": {},
   "outputs": [
    {
     "data": {
      "text/plain": [
       "array([[1.78184570e-04, 2.22243531e-04, 2.22243531e-04, ...,\n",
       "        1.58921816e-04, 6.40000000e+01, 0.00000000e+00],\n",
       "       [1.76412045e-04, 2.36634007e-04, 2.36634007e-04, ...,\n",
       "        1.51941309e-04, 7.10000000e+01, 0.00000000e+00],\n",
       "       [1.88090028e-04, 2.64740228e-04, 2.64740228e-04, ...,\n",
       "        1.51704254e-04, 7.00000000e+01, 0.00000000e+00],\n",
       "       ...,\n",
       "       [2.12893746e-04, 3.22271173e-04, 3.22271173e-04, ...,\n",
       "        5.57173020e-04, 6.40000000e+01, 0.00000000e+00],\n",
       "       [1.97253210e-04, 2.92130237e-04, 2.92130237e-04, ...,\n",
       "        5.81687843e-04, 6.60000000e+01, 0.00000000e+00],\n",
       "       [1.77459215e-04, 2.45756414e-04, 2.45756414e-04, ...,\n",
       "        5.66083051e-04, 6.60000000e+01, 0.00000000e+00]],\n",
       "      shape=(3465, 128))"
      ]
     },
     "execution_count": 7,
     "metadata": {},
     "output_type": "execute_result"
    }
   ],
   "source": [
    "Subject_features['S1']"
   ]
  },
  {
   "cell_type": "code",
   "execution_count": 8,
   "id": "fe3d50d2-db2a-4adc-bee1-91cc5e2663de",
   "metadata": {},
   "outputs": [
    {
     "data": {
      "text/plain": [
       "['Subject_features.joblib']"
      ]
     },
     "execution_count": 8,
     "metadata": {},
     "output_type": "execute_result"
    }
   ],
   "source": [
    "joblib.dump(Subject_features, 'Subject_features.joblib')"
   ]
  },
  {
   "cell_type": "code",
   "execution_count": 9,
   "id": "7e7a8097-b0ec-4792-817c-69d6ed91c51b",
   "metadata": {},
   "outputs": [],
   "source": [
    "TargetCol = []\n",
    "for movement in range(15):\n",
    "    for window in range(231):\n",
    "        TargetCol.append(movement+1)"
   ]
  },
  {
   "cell_type": "code",
   "execution_count": 10,
   "id": "45b030d3-972e-45c4-84a4-389591d9b039",
   "metadata": {},
   "outputs": [],
   "source": [
    "Target = np.array(TargetCol)"
   ]
  },
  {
   "cell_type": "markdown",
   "id": "f5da6c6e-a4ac-4512-bae9-2fe0343f1161",
   "metadata": {},
   "source": [
    "# Classification Using 4 different classifiers."
   ]
  },
  {
   "cell_type": "markdown",
   "id": "8990eafa-0a82-4f7b-a5bb-5fe283845380",
   "metadata": {},
   "source": [
    "### Classification of 15 hand postures for Subject 1"
   ]
  },
  {
   "cell_type": "code",
   "execution_count": 11,
   "id": "9c0189e2-8830-4ce2-a387-023df155a62f",
   "metadata": {},
   "outputs": [],
   "source": [
    "# import numpy as np\n",
    "# from sklearn.model_selection import GridSearchCV\n",
    "# from sklearn.model_selection import cross_val_score, KFold\n",
    "# from sklearn.ensemble import RandomForestClassifier, ExtraTreesClassifier\n",
    "# from sklearn.svm import SVC\n",
    "# from sklearn.neighbors import KNeighborsClassifier\n",
    "\n",
    "# # Subject 1's data\n",
    "# X = Subject_features['S1']  # numpy array of shape (3465, 128)\n",
    "# y = Target      # numpy array of shape (3465,)\n",
    "\n",
    "# # Set up k-fold cross-validation\n",
    "# k = 5\n",
    "# kf = KFold(n_splits=k, shuffle=True, random_state=42)\n",
    "\n",
    "# # Initialize classifiers\n",
    "# classifiers = {\n",
    "#     \"RF\": RandomForestClassifier(random_state=42),\n",
    "#     \"SVM\": SVC(random_state=42),\n",
    "#     \"KNN\": KNeighborsClassifier(),\n",
    "#     \"ETC\": ExtraTreesClassifier(random_state=42)\n",
    "# }\n",
    "\n",
    "# # Evaluate each classifier\n",
    "# for name, clf in classifiers.items():\n",
    "#     scores = cross_val_score(clf, X, y, cv=kf, scoring='accuracy')\n",
    "#     print(f'{name} scores over the 5 folds: {scores}')\n",
    "#     print(f\"{name} Mean Accuracy: {np.mean(scores):.4f} ± {np.std(scores):.4f}\\n\")"
   ]
  },
  {
   "cell_type": "code",
   "execution_count": 12,
   "id": "2327fdd6-90fa-4a65-9680-f2b72e133689",
   "metadata": {},
   "outputs": [],
   "source": [
    "# import numpy as np\n",
    "# import pandas as pd\n",
    "# from sklearn.model_selection import cross_val_score, KFold\n",
    "# from sklearn.ensemble import RandomForestClassifier, ExtraTreesClassifier\n",
    "# from sklearn.svm import SVC\n",
    "# from sklearn.neighbors import KNeighborsClassifier\n",
    "\n",
    "# # Your data\n",
    "# # features_dict = {'S1': ..., 'S2': ..., ..., 'S8': ...}\n",
    "# # target_array = numpy array of shape (3465,)\n",
    "\n",
    "# # Define k-fold\n",
    "# k = 5\n",
    "# kf = KFold(n_splits=k, shuffle=True, random_state=42)\n",
    "\n",
    "# # Define classifiers\n",
    "# classifiers = {\n",
    "#     \"RF\": RandomForestClassifier(random_state=42),\n",
    "#     \"SVM\": SVC(random_state=42),\n",
    "#     \"KNN\": KNeighborsClassifier(),\n",
    "#     \"ETC\": ExtraTreesClassifier(random_state=42)\n",
    "# }\n",
    "\n",
    "# # Prepare results table\n",
    "# results = []\n",
    "\n",
    "# # Loop through subjects in dictionary\n",
    "# for subject_id, X in Subject_features.items():\n",
    "#     row = {\"Subject\": subject_id}\n",
    "#     for name, clf in classifiers.items():\n",
    "#         scores = cross_val_score(clf, X, Target, cv=kf, scoring='accuracy')\n",
    "#         row[name] = np.mean(scores)\n",
    "#     results.append(row)\n",
    "\n",
    "# # Create DataFrame\n",
    "# accuracy_df = pd.DataFrame(results)\n",
    "# accuracy_df.set_index(\"Subject\", inplace=True)\n",
    "\n",
    "# # Display table\n",
    "# print(accuracy_df.round(4))\n"
   ]
  },
  {
   "cell_type": "code",
   "execution_count": 13,
   "id": "5a799096-af0c-4693-ad82-d61997749f03",
   "metadata": {},
   "outputs": [],
   "source": [
    "# joblib.dump(accuracy_df, 'Acc_without_HPT.joblib')"
   ]
  },
  {
   "cell_type": "markdown",
   "id": "6efed4dd-c363-4346-ab3b-36d1a3a5f706",
   "metadata": {},
   "source": [
    "# Classification after finding best parameters."
   ]
  },
  {
   "cell_type": "code",
   "execution_count": 14,
   "id": "1c939553-9e71-42e9-8fa6-4151f0dd09e3",
   "metadata": {},
   "outputs": [],
   "source": [
    "# import numpy as np\n",
    "# from sklearn.model_selection import GridSearchCV\n",
    "# from sklearn.model_selection import cross_val_score, KFold\n",
    "# from sklearn.ensemble import RandomForestClassifier, ExtraTreesClassifier\n",
    "# from sklearn.svm import SVC\n",
    "# from sklearn.neighbors import KNeighborsClassifier\n",
    "\n",
    "# # Subject 1's data\n",
    "# X = Subject_features['S1']  # numpy array of shape (3465, 128)\n",
    "# y = Target      # numpy array of shape (3465,)\n",
    "\n",
    "# # Set up k-fold cross-validation\n",
    "# k = 5\n",
    "# kf = KFold(n_splits=k, shuffle=True, random_state=42)\n",
    "\n",
    "# # Initialize classifiers\n",
    "# classifiers = {\n",
    "#     \"RF\": RandomForestClassifier(random_state=42),\n",
    "#     \"SVM\": SVC(C=1.0,kernel='linear',random_state=42),\n",
    "#     \"KNN\": KNeighborsClassifier(n_neighbors=40,weights='distance', leaf_size=1,metric='manhattan'),\n",
    "#     \"ETC\": ExtraTreesClassifier(random_state=42)\n",
    "# }\n",
    "\n",
    "# # Evaluate each classifier\n",
    "# for name, clf in classifiers.items():\n",
    "#     scores = cross_val_score(clf, X, y, cv=kf, scoring='accuracy')\n",
    "#     print(f'{name} scores over the 5 folds: {scores}')\n",
    "#     print(f\"{name} Mean Accuracy: {np.mean(scores):.4f} ± {np.std(scores):.4f}\\n\")"
   ]
  },
  {
   "cell_type": "code",
   "execution_count": 15,
   "id": "73014e1c-1eaf-47b2-9919-82d5f9c74058",
   "metadata": {},
   "outputs": [],
   "source": [
    "# import numpy as np\n",
    "# import pandas as pd\n",
    "# from sklearn.model_selection import cross_val_score, KFold\n",
    "# from sklearn.ensemble import RandomForestClassifier, ExtraTreesClassifier\n",
    "# from sklearn.svm import SVC\n",
    "# from sklearn.neighbors import KNeighborsClassifier\n",
    "\n",
    "# # Your data\n",
    "# # features_dict = {'S1': ..., 'S2': ..., ..., 'S8': ...}\n",
    "# # target_array = numpy array of shape (3465,)\n",
    "\n",
    "# # Define k-fold\n",
    "# k = 5\n",
    "# kf = KFold(n_splits=k, shuffle=True, random_state=42)\n",
    "\n",
    "# # Define classifiers\n",
    "# classifiers = {\n",
    "#     \"RF\": RandomForestClassifier(random_state=42),\n",
    "#     \"SVM\": SVC(C=1.0,kernel='linear',random_state=42),\n",
    "#     \"KNN\": KNeighborsClassifier(n_neighbors=15, leaf_size=10, metric='manhattan', weights='distance'),\n",
    "#     \"ETC\": ExtraTreesClassifier(random_state=42)\n",
    "# }\n",
    "\n",
    "# # Prepare results table\n",
    "# results = []\n",
    "\n",
    "# # Loop through subjects in dictionary\n",
    "# for subject_id, X in Subject_features.items():\n",
    "#     row = {\"Subject\": subject_id}\n",
    "#     for name, clf in classifiers.items():\n",
    "#         scores = cross_val_score(clf, X, Target, cv=kf, scoring='accuracy')\n",
    "#         row[name] = np.mean(scores)\n",
    "#     results.append(row)"
   ]
  },
  {
   "cell_type": "code",
   "execution_count": 16,
   "id": "4f5c8d32-8404-48a4-9a7e-c16a59808fbe",
   "metadata": {},
   "outputs": [],
   "source": [
    "# # Create DataFrame\n",
    "# accuracy_df_HP = pd.DataFrame(results)\n",
    "# accuracy_df_HP.set_index(\"Subject\", inplace=True)\n",
    "\n",
    "# # Display table\n",
    "# print(accuracy_df_HP.round(4))"
   ]
  },
  {
   "cell_type": "code",
   "execution_count": 17,
   "id": "cc68276e-45e7-4fdb-8a61-5fcb10678898",
   "metadata": {},
   "outputs": [],
   "source": [
    "# joblib.dump(accuracy_df_HP, 'Acc_with_HPT.joblib')"
   ]
  },
  {
   "cell_type": "code",
   "execution_count": 20,
   "id": "0c48fba0-c943-4cac-aae3-cbf17a7bdb3b",
   "metadata": {},
   "outputs": [
    {
     "name": "stdout",
     "output_type": "stream",
     "text": [
      "\n",
      "=== ETC ===\n",
      "Classification Report (ETC):\n",
      "              precision    recall  f1-score   support\n",
      "\n",
      "           1     0.9957    0.9913    0.9935       231\n",
      "           2     0.9957    0.9957    0.9957       231\n",
      "           3     0.9871    0.9913    0.9892       231\n",
      "           4     0.9914    0.9957    0.9935       231\n",
      "           5     0.9957    1.0000    0.9978       231\n",
      "           6     0.9957    1.0000    0.9978       231\n",
      "           7     0.9914    0.9957    0.9935       231\n",
      "           8     1.0000    1.0000    1.0000       231\n",
      "           9     1.0000    1.0000    1.0000       231\n",
      "          10     0.9912    0.9740    0.9825       231\n",
      "          11     0.9914    0.9957    0.9935       231\n",
      "          12     1.0000    1.0000    1.0000       231\n",
      "          13     0.9870    0.9870    0.9870       231\n",
      "          14     1.0000    0.9957    0.9978       231\n",
      "          15     1.0000    1.0000    1.0000       231\n",
      "\n",
      "    accuracy                         0.9948      3465\n",
      "   macro avg     0.9948    0.9948    0.9948      3465\n",
      "weighted avg     0.9948    0.9948    0.9948      3465\n",
      "\n"
     ]
    },
    {
     "data": {
      "image/png": "[encoded data removed]",
      "text/plain": [
       "<Figure size 1000x800 with 2 Axes>"
      ]
     },
     "metadata": {},
     "output_type": "display_data"
    }
   ],
   "source": [
    "import numpy as np\n",
    "from sklearn.model_selection import KFold, cross_val_predict\n",
    "from sklearn.ensemble import RandomForestClassifier, ExtraTreesClassifier\n",
    "from sklearn.svm import SVC\n",
    "from sklearn.neighbors import KNeighborsClassifier\n",
    "from sklearn.metrics import classification_report, confusion_matrix\n",
    "import seaborn as sns\n",
    "import matplotlib.pyplot as plt\n",
    "\n",
    "# Subject 1's data\n",
    "X = Subject_features['S7']  # numpy array of shape (3465, 128)\n",
    "y = Target      # numpy array of shape (3465,)     # shape (3465,)\n",
    "\n",
    "# Set up k-fold cross-validation\n",
    "k = 5\n",
    "kf = KFold(n_splits=k, shuffle=True, random_state=42)\n",
    "\n",
    "# Initialize classifiers\n",
    "classifiers = {\n",
    "    # \"RF\": RandomForestClassifier(random_state=42),\n",
    "    # \"SVM\": SVC(C=1.0,kernel='linear',random_state=42),\n",
    "    # \"KNN\": KNeighborsClassifier(n_neighbors=40,weights='distance', leaf_size=1,metric='manhattan'),\n",
    "    \"ETC\": ExtraTreesClassifier(random_state=42)\n",
    "}\n",
    "\n",
    "# Evaluate each classifier\n",
    "for name, clf in classifiers.items():\n",
    "    print(f\"\\n=== {name} ===\")\n",
    "    \n",
    "    # Get cross-validated predictions\n",
    "    y_pred = cross_val_predict(clf, X, y, cv=kf, n_jobs=-1)\n",
    "    \n",
    "    # Print classification report\n",
    "    print(f\"Classification Report ({name}):\")\n",
    "    print(classification_report(y, y_pred, digits=4))\n",
    "    \n",
    "    # Confusion matrix\n",
    "    cm = confusion_matrix(y, y_pred,normalize='true')\n",
    "    plt.figure(figsize=(10, 8))\n",
    "    sns.heatmap(cm, annot=True, fmt='.2f', cmap='Blues')\n",
    "    plt.title(f\"{name} - Confusion Matrix (Subject 7)\")\n",
    "    plt.xlabel(\"Predicted\")\n",
    "    plt.ylabel(\"True\")\n",
    "    plt.tight_layout()\n",
    "    plt.savefig('cm_s7')\n",
    "    plt.show()"
   ]
  },
  {
   "cell_type": "code",
   "execution_count": null,
   "id": "cd814ae3-f899-4b83-970e-f3a352901d94",
   "metadata": {},
   "outputs": [],
   "source": []
  }
 ],
 "metadata": {
  "kernelspec": {
   "display_name": "Python 3 (ipykernel)",
   "language": "python",
   "name": "python3"
  },
  "language_info": {
   "codemirror_mode": {
    "name": "ipython",
    "version": 3
   },
   "file_extension": ".py",
   "mimetype": "text/x-python",
   "name": "python",
   "nbconvert_exporter": "python",
   "pygments_lexer": "ipython3",
   "version": "3.13.2"
  }
 },
 "nbformat": 4,
 "nbformat_minor": 5
}
