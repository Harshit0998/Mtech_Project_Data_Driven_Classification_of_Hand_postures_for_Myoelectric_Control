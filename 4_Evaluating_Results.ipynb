{
 "cells": [
  {
   "cell_type": "code",
   "execution_count": 1,
   "id": "a7509bf1-9d25-4510-97ca-50c9fe639590",
   "metadata": {},
   "outputs": [],
   "source": [
    "import joblib\n",
    "import numpy as np\n",
    "Subject_features = joblib.load('Subject_features.joblib')"
   ]
  },
  {
   "cell_type": "code",
   "execution_count": 2,
   "id": "450f8beb-5645-4daa-b6c2-be53a1266cc0",
   "metadata": {},
   "outputs": [],
   "source": [
    "TargetCol = []\n",
    "for movement in range(15):\n",
    "    for window in range(231):\n",
    "        TargetCol.append(movement+1)\n",
    "\n",
    "Target = np.array(TargetCol)"
   ]
  },
  {
   "cell_type": "code",
   "execution_count": 3,
   "id": "09aa9025-14bb-447f-92ca-5bfbdf8fc94a",
   "metadata": {},
   "outputs": [],
   "source": [
    "y = Target"
   ]
  },
  {
   "cell_type": "code",
   "execution_count": 4,
   "id": "42af467f-c7bc-458b-aa8f-b5927b3b6dee",
   "metadata": {},
   "outputs": [],
   "source": [
    "import numpy as np\n",
    "import pandas as pd\n",
    "from sklearn.model_selection import cross_val_score, KFold, cross_val_predict\n",
    "from sklearn.ensemble import RandomForestClassifier, ExtraTreesClassifier\n",
    "from sklearn.svm import SVC\n",
    "from sklearn.neighbors import KNeighborsClassifier\n",
    "from sklearn.preprocessing import StandardScaler\n",
    "from sklearn.pipeline import make_pipeline\n",
    "from sklearn.metrics import precision_score, recall_score, f1_score"
   ]
  },
  {
   "cell_type": "code",
   "execution_count": 5,
   "id": "9468f77e-3057-4c0e-a86d-7fc929528103",
   "metadata": {
    "scrolled": true
   },
   "outputs": [],
   "source": [
    "# features_dict = {'S1': ..., ..., 'S8': ...}\n",
    "# target_array = numpy array of shape (3465,)\n",
    "\n",
    "# Set up k-fold cross-validation\n",
    "kf = KFold(n_splits=5, shuffle=True, random_state=42)\n",
    "\n",
    "# Define classifiers with StandardScaler in a pipeline\n",
    "classifiers = {\n",
    "    \"RF\": make_pipeline(StandardScaler(), RandomForestClassifier(random_state=42)),\n",
    "    \"SVM\": make_pipeline(StandardScaler(), SVC(C=1.0,kernel='linear',random_state=42)),\n",
    "    \"ETC\": make_pipeline(StandardScaler(), ExtraTreesClassifier(random_state=42))\n",
    "}\n",
    "\n",
    "# Collect accuracy results\n",
    "results = []\n",
    "\n",
    "for subject_id, X in Subject_features.items():\n",
    "    row = {\"Subject\": subject_id}\n",
    "    for name, clf in classifiers.items():\n",
    "        scores = cross_val_score(clf, X, Target, cv=kf, scoring='accuracy', n_jobs=-1)\n",
    "        row[name] = np.mean(scores)\n",
    "    results.append(row)\n",
    "\n"
   ]
  },
  {
   "cell_type": "code",
   "execution_count": 6,
   "id": "87706175-5929-4ae8-9183-aa8bd25c3ffc",
   "metadata": {},
   "outputs": [
    {
     "name": "stdout",
     "output_type": "stream",
     "text": [
      "             RF     SVM     ETC\n",
      "Subject                        \n",
      "S1       0.9792  0.9879  0.9841\n",
      "S2       0.9743  0.9830  0.9847\n",
      "S3       0.9304  0.9469  0.9449\n",
      "S4       0.9732  0.9760  0.9812\n",
      "S5       0.9879  0.9899  0.9934\n",
      "S6       0.9830  0.9861  0.9905\n",
      "S7       0.9913  0.9905  0.9948\n",
      "S8       0.9608  0.9766  0.9734\n"
     ]
    }
   ],
   "source": [
    "# Create DataFrame\n",
    "accuracy_df_scaled = pd.DataFrame(results)\n",
    "accuracy_df_scaled.set_index(\"Subject\", inplace=True)\n",
    "\n",
    "# Display\n",
    "print(accuracy_df_scaled.round(4))\n",
    "# accuracy_df.to_csv(\"normalized_classification_accuracy_all_subjects.csv\")"
   ]
  },
  {
   "cell_type": "code",
   "execution_count": 7,
   "id": "cd83fa59-4234-40bb-9843-e2606329da58",
   "metadata": {},
   "outputs": [
    {
     "data": {
      "text/plain": [
       "['Acc_with_HPT_norm.joblib']"
      ]
     },
     "execution_count": 7,
     "metadata": {},
     "output_type": "execute_result"
    }
   ],
   "source": [
    "joblib.dump(accuracy_df_scaled, 'Acc_with_HPT_norm.joblib')"
   ]
  },
  {
   "cell_type": "code",
   "execution_count": 8,
   "id": "56fca3b4-2d81-4453-89fb-77372e72afba",
   "metadata": {},
   "outputs": [],
   "source": [
    "Fin_Result = joblib.load('Acc_with_HPT_norm.joblib')"
   ]
  },
  {
   "cell_type": "code",
   "execution_count": 9,
   "id": "22774ba6-0ce4-4330-a8e8-31bfd2c257c2",
   "metadata": {},
   "outputs": [
    {
     "data": {
      "text/html": [
       "<div>\n",
       "<style scoped>\n",
       "    .dataframe tbody tr th:only-of-type {\n",
       "        vertical-align: middle;\n",
       "    }\n",
       "\n",
       "    .dataframe tbody tr th {\n",
       "        vertical-align: top;\n",
       "    }\n",
       "\n",
       "    .dataframe thead th {\n",
       "        text-align: right;\n",
       "    }\n",
       "</style>\n",
       "<table border=\"1\" class=\"dataframe\">\n",
       "  <thead>\n",
       "    <tr style=\"text-align: right;\">\n",
       "      <th></th>\n",
       "      <th>RF</th>\n",
       "      <th>SVM</th>\n",
       "      <th>ETC</th>\n",
       "    </tr>\n",
       "    <tr>\n",
       "      <th>Subject</th>\n",
       "      <th></th>\n",
       "      <th></th>\n",
       "      <th></th>\n",
       "    </tr>\n",
       "  </thead>\n",
       "  <tbody>\n",
       "    <tr>\n",
       "      <th>S1</th>\n",
       "      <td>97.922</td>\n",
       "      <td>98.788</td>\n",
       "      <td>98.413</td>\n",
       "    </tr>\n",
       "    <tr>\n",
       "      <th>S2</th>\n",
       "      <td>97.431</td>\n",
       "      <td>98.297</td>\n",
       "      <td>98.470</td>\n",
       "    </tr>\n",
       "    <tr>\n",
       "      <th>S3</th>\n",
       "      <td>93.045</td>\n",
       "      <td>94.690</td>\n",
       "      <td>94.488</td>\n",
       "    </tr>\n",
       "    <tr>\n",
       "      <th>S4</th>\n",
       "      <td>97.316</td>\n",
       "      <td>97.605</td>\n",
       "      <td>98.124</td>\n",
       "    </tr>\n",
       "    <tr>\n",
       "      <th>S5</th>\n",
       "      <td>98.788</td>\n",
       "      <td>98.990</td>\n",
       "      <td>99.336</td>\n",
       "    </tr>\n",
       "    <tr>\n",
       "      <th>S6</th>\n",
       "      <td>98.297</td>\n",
       "      <td>98.615</td>\n",
       "      <td>99.048</td>\n",
       "    </tr>\n",
       "    <tr>\n",
       "      <th>S7</th>\n",
       "      <td>99.134</td>\n",
       "      <td>99.048</td>\n",
       "      <td>99.481</td>\n",
       "    </tr>\n",
       "    <tr>\n",
       "      <th>S8</th>\n",
       "      <td>96.075</td>\n",
       "      <td>97.662</td>\n",
       "      <td>97.345</td>\n",
       "    </tr>\n",
       "  </tbody>\n",
       "</table>\n",
       "</div>"
      ],
      "text/plain": [
       "             RF     SVM     ETC\n",
       "Subject                        \n",
       "S1       97.922  98.788  98.413\n",
       "S2       97.431  98.297  98.470\n",
       "S3       93.045  94.690  94.488\n",
       "S4       97.316  97.605  98.124\n",
       "S5       98.788  98.990  99.336\n",
       "S6       98.297  98.615  99.048\n",
       "S7       99.134  99.048  99.481\n",
       "S8       96.075  97.662  97.345"
      ]
     },
     "execution_count": 9,
     "metadata": {},
     "output_type": "execute_result"
    }
   ],
   "source": [
    "Fin_Result.round(5)*100"
   ]
  },
  {
   "cell_type": "code",
   "execution_count": 10,
   "id": "e839f45f-40fa-409f-95fc-5f4e1cb5750f",
   "metadata": {},
   "outputs": [
    {
     "name": "stdout",
     "output_type": "stream",
     "text": [
      "Avg accuracy over all subjects (RF) = 0.97251\n",
      "Avg accuracy over all subjects (SVM) = 0.97962\n",
      "Avg accuracy over all subjects (ETC) = 0.98088\n"
     ]
    }
   ],
   "source": [
    "for col in Fin_Result.columns:\n",
    "    print(f'Avg accuracy over all subjects ({col}) = {round(np.mean(Fin_Result[col]),5)}')"
   ]
  },
  {
   "cell_type": "markdown",
   "id": "ed896d87-2372-4c0e-b825-c8a73dace2c1",
   "metadata": {},
   "source": [
    "We can see that Extra Tree Classifier gives the best overall accuracy."
   ]
  },
  {
   "cell_type": "code",
   "execution_count": 11,
   "id": "238b3d58-b408-4f3b-a23e-ec3f9fca3d2b",
   "metadata": {},
   "outputs": [],
   "source": [
    "# Cross-validation strategy\n",
    "kf = KFold(n_splits=5, shuffle=True, random_state=42)\n",
    "\n",
    "# Store results\n",
    "metrics_data = []\n",
    "\n",
    "for subject, X in Subject_features.items():\n",
    "    # Create pipeline\n",
    "    pipeline = make_pipeline(StandardScaler(), ExtraTreesClassifier(random_state=42))\n",
    "    \n",
    "    # Get predictions using cross-validation\n",
    "    y_pred = cross_val_predict(pipeline, X, y, cv=kf, n_jobs=-1)\n",
    "    \n",
    "    # Compute metrics\n",
    "    precision = precision_score(y, y_pred, average='macro')\n",
    "    recall = recall_score(y, y_pred, average='macro')\n",
    "    f1 = f1_score(y, y_pred, average='macro')\n",
    "    \n",
    "    metrics_data.append([subject, precision, recall, f1])"
   ]
  },
  {
   "cell_type": "code",
   "execution_count": 12,
   "id": "dc75ee8d-68d7-4880-bd40-94abb57b4362",
   "metadata": {},
   "outputs": [
    {
     "data": {
      "text/html": [
       "<div>\n",
       "<style scoped>\n",
       "    .dataframe tbody tr th:only-of-type {\n",
       "        vertical-align: middle;\n",
       "    }\n",
       "\n",
       "    .dataframe tbody tr th {\n",
       "        vertical-align: top;\n",
       "    }\n",
       "\n",
       "    .dataframe thead th {\n",
       "        text-align: right;\n",
       "    }\n",
       "</style>\n",
       "<table border=\"1\" class=\"dataframe\">\n",
       "  <thead>\n",
       "    <tr style=\"text-align: right;\">\n",
       "      <th></th>\n",
       "      <th>Precision</th>\n",
       "      <th>Recall</th>\n",
       "      <th>F1-Score</th>\n",
       "    </tr>\n",
       "    <tr>\n",
       "      <th>Subject</th>\n",
       "      <th></th>\n",
       "      <th></th>\n",
       "      <th></th>\n",
       "    </tr>\n",
       "  </thead>\n",
       "  <tbody>\n",
       "    <tr>\n",
       "      <th>S1</th>\n",
       "      <td>0.984272</td>\n",
       "      <td>0.984127</td>\n",
       "      <td>0.984081</td>\n",
       "    </tr>\n",
       "    <tr>\n",
       "      <th>S2</th>\n",
       "      <td>0.984999</td>\n",
       "      <td>0.984704</td>\n",
       "      <td>0.984769</td>\n",
       "    </tr>\n",
       "    <tr>\n",
       "      <th>S3</th>\n",
       "      <td>0.945967</td>\n",
       "      <td>0.944877</td>\n",
       "      <td>0.944786</td>\n",
       "    </tr>\n",
       "    <tr>\n",
       "      <th>S4</th>\n",
       "      <td>0.981483</td>\n",
       "      <td>0.981241</td>\n",
       "      <td>0.981275</td>\n",
       "    </tr>\n",
       "    <tr>\n",
       "      <th>S5</th>\n",
       "      <td>0.993396</td>\n",
       "      <td>0.993362</td>\n",
       "      <td>0.993349</td>\n",
       "    </tr>\n",
       "    <tr>\n",
       "      <th>S6</th>\n",
       "      <td>0.990475</td>\n",
       "      <td>0.990476</td>\n",
       "      <td>0.990440</td>\n",
       "    </tr>\n",
       "    <tr>\n",
       "      <th>S7</th>\n",
       "      <td>0.994807</td>\n",
       "      <td>0.994805</td>\n",
       "      <td>0.994799</td>\n",
       "    </tr>\n",
       "    <tr>\n",
       "      <th>S8</th>\n",
       "      <td>0.973445</td>\n",
       "      <td>0.973449</td>\n",
       "      <td>0.973404</td>\n",
       "    </tr>\n",
       "  </tbody>\n",
       "</table>\n",
       "</div>"
      ],
      "text/plain": [
       "         Precision    Recall  F1-Score\n",
       "Subject                               \n",
       "S1        0.984272  0.984127  0.984081\n",
       "S2        0.984999  0.984704  0.984769\n",
       "S3        0.945967  0.944877  0.944786\n",
       "S4        0.981483  0.981241  0.981275\n",
       "S5        0.993396  0.993362  0.993349\n",
       "S6        0.990475  0.990476  0.990440\n",
       "S7        0.994807  0.994805  0.994799\n",
       "S8        0.973445  0.973449  0.973404"
      ]
     },
     "execution_count": 12,
     "metadata": {},
     "output_type": "execute_result"
    }
   ],
   "source": [
    "# Create DataFrame\n",
    "metrics_df = pd.DataFrame(metrics_data, columns=['Subject', 'Precision', 'Recall', 'F1-Score'])\n",
    "metrics_df.set_index('Subject')"
   ]
  },
  {
   "cell_type": "code",
   "execution_count": 6,
   "id": "bd1548ea-ec0c-4dd6-aa4e-99c7ade5dfd1",
   "metadata": {},
   "outputs": [
    {
     "data": {
      "image/png": "[encoded data removed]",
      "text/plain": [
       "<Figure size 1000x600 with 1 Axes>"
      ]
     },
     "metadata": {},
     "output_type": "display_data"
    }
   ],
   "source": [
    "import pandas as pd\n",
    "import matplotlib.pyplot as plt\n",
    "import seaborn as sns\n",
    "\n",
    "# Data\n",
    "data = {\n",
    "    \"Subject\": [\"S1\", \"S2\", \"S3\", \"S4\", \"S5\", \"S6\", \"S7\", \"S8\"],\n",
    "    \"RF\": [0.9792, 0.9743, 0.9304, 0.9732, 0.9879, 0.9830, 0.9913, 0.9608],\n",
    "    \"SVM\": [0.9879, 0.9830, 0.9469, 0.9760, 0.9899, 0.9861, 0.9905, 0.9766],\n",
    "    \"ETC\": [0.9841, 0.9847, 0.9449, 0.9812, 0.9934, 0.9905, 0.9948, 0.9734]\n",
    "}\n",
    "\n",
    "# Convert to DataFrame\n",
    "df = pd.DataFrame(data)\n",
    "\n",
    "# Melt for seaborn\n",
    "df_melted = df.melt(id_vars=[\"Subject\"], var_name=\"Classifier\", value_name=\"Accuracy\")\n",
    "\n",
    "# Define VIBGYOR + Grey colors\n",
    "vibgyor_colors = [\n",
    "    \"#8A2BE2\",  # Violet\n",
    "    \"#4B0082\",  # Indigo\n",
    "    \"#0000FF\",  # Blue\n",
    "    \"#00FF00\",  # Green\n",
    "    \"#FFFF00\",  # Yellow\n",
    "    \"#FFA500\",  # Orange\n",
    "    \"#FF0000\",  # Red\n",
    "    \"#808080\"   # Grey\n",
    "]\n",
    "\n",
    "# Plot\n",
    "plt.figure(figsize=(10, 6))\n",
    "sns.barplot(x=\"Classifier\", y=\"Accuracy\", hue=\"Subject\", data=df_melted, palette=vibgyor_colors)\n",
    "\n",
    "# Customize\n",
    "plt.title(\"Classification Accuracy per Subject for Each Classifier\")\n",
    "plt.ylabel(\"Accuracy\")\n",
    "plt.ylim(0.90, 1.01)\n",
    "plt.legend(title=\"Subject\", bbox_to_anchor=(1.05, 1), loc='upper left')\n",
    "plt.tight_layout()\n",
    "\n",
    "\n",
    "# Show plot\n",
    "plt.savefig('AccOverSubjs')\n",
    "plt.show()"
   ]
  }
 ],
 "metadata": {
  "kernelspec": {
   "display_name": "Python 3 (ipykernel)",
   "language": "python",
   "name": "python3"
  },
  "language_info": {
   "codemirror_mode": {
    "name": "ipython",
    "version": 3
   },
   "file_extension": ".py",
   "mimetype": "text/x-python",
   "name": "python",
   "nbconvert_exporter": "python",
   "pygments_lexer": "ipython3",
   "version": "3.13.2"
  }
 },
 "nbformat": 4,
 "nbformat_minor": 5
}
