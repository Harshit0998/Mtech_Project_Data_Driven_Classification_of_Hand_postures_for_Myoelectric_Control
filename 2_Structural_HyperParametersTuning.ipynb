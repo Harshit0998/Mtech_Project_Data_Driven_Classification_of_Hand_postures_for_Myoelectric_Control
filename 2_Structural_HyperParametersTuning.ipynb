{
 "cells": [
  {
   "cell_type": "markdown",
   "id": "a791a2cb-7266-4a9f-a28f-dbf9381ae609",
   "metadata": {},
   "source": [
    "# Towards improvement in accuracy of the classifiers using GridSearch CV"
   ]
  },
  {
   "cell_type": "code",
   "execution_count": 1,
   "id": "54266790-38eb-45b1-b1e0-e430e9495246",
   "metadata": {},
   "outputs": [],
   "source": [
    "import numpy as np\n",
    "import pandas as pd"
   ]
  },
  {
   "cell_type": "code",
   "execution_count": 2,
   "id": "a54db4bb-db39-4ba2-8430-e620177a2be0",
   "metadata": {},
   "outputs": [],
   "source": [
    "import joblib\n",
    "Sub_Feat = joblib.load('Subject_features.joblib')"
   ]
  },
  {
   "cell_type": "code",
   "execution_count": 3,
   "id": "747150dd-f2c2-460c-825d-ff11f8fd2595",
   "metadata": {},
   "outputs": [
    {
     "data": {
      "text/plain": [
       "dict_keys(['S1', 'S2', 'S3', 'S4', 'S5', 'S6', 'S7', 'S8'])"
      ]
     },
     "execution_count": 3,
     "metadata": {},
     "output_type": "execute_result"
    }
   ],
   "source": [
    "Sub_Feat.keys()"
   ]
  },
  {
   "cell_type": "code",
   "execution_count": 4,
   "id": "29a6ffc9-b84b-4b28-9be6-6672329c267d",
   "metadata": {},
   "outputs": [],
   "source": [
    "TargetCol = []\n",
    "for movement in range(15):\n",
    "    for window in range(231):\n",
    "        TargetCol.append(movement+1)"
   ]
  },
  {
   "cell_type": "code",
   "execution_count": 5,
   "id": "db1035b8-b2e5-4bce-9cc4-0aecb8d00c48",
   "metadata": {},
   "outputs": [],
   "source": [
    "Target = np.array(TargetCol)"
   ]
  },
  {
   "cell_type": "code",
   "execution_count": 6,
   "id": "50845605-d66f-4612-9057-ee0229168b2e",
   "metadata": {},
   "outputs": [],
   "source": [
    "X = Sub_Feat['S1']\n",
    "y = Target"
   ]
  },
  {
   "cell_type": "markdown",
   "id": "b8fb04b7-cb66-42e7-9669-a08fc7fd9bf9",
   "metadata": {},
   "source": [
    "## GridSearch CV"
   ]
  },
  {
   "cell_type": "code",
   "execution_count": 7,
   "id": "c493bc54-e1aa-4639-9f7b-a6a50876b49a",
   "metadata": {},
   "outputs": [],
   "source": [
    "import numpy as np\n",
    "from sklearn.model_selection import GridSearchCV\n",
    "from sklearn.model_selection import cross_val_score, KFold\n",
    "from sklearn.ensemble import RandomForestClassifier, ExtraTreesClassifier\n",
    "from sklearn.svm import SVC\n",
    "from sklearn.neighbors import KNeighborsClassifier"
   ]
  },
  {
   "cell_type": "markdown",
   "id": "a4b3c56d-ac5b-4d03-98d1-652a87943abe",
   "metadata": {},
   "source": [
    "## Tuning SVM"
   ]
  },
  {
   "cell_type": "code",
   "execution_count": 8,
   "id": "ce7dd12d-c344-404c-a029-85776f339c15",
   "metadata": {},
   "outputs": [
    {
     "name": "stdout",
     "output_type": "stream",
     "text": [
      "Best Accuracy for SVM: 0.7648\n",
      "Best Parameters for SVM: {'C': 1, 'kernel': 'linear'}\n"
     ]
    }
   ],
   "source": [
    "svm_param_grid = [\n",
    "    {'kernel': ['rbf'], 'gamma': [1e-2, 1e-3, 1e-4, 1e-5], 'C': [0.001, 0.1, 1, 10, 25, 50, 100, 1000]},\n",
    "    {'kernel': ['sigmoid'], 'gamma': [1e-2, 1e-3, 1e-4, 1e-5], 'C': [0.001, 0.1, 1, 10, 25, 50, 100, 1000]},\n",
    "    {'kernel': ['linear'], 'C': [0.001, 0.1, 1, 10, 25, 50, 100, 1000]}\n",
    "]\n",
    "\n",
    "# Initialize SVM classifier\n",
    "svm = SVC()\n",
    "\n",
    "# Grid search with 5-fold cross-validation\n",
    "grid_search_svm = GridSearchCV(svm, svm_param_grid, cv=5, scoring='accuracy', n_jobs=-1)\n",
    "grid_search_svm.fit(X, y)\n",
    "\n",
    "# Display best result\n",
    "print(\"Best Accuracy for SVM:\", round(grid_search_svm.best_score_, 4))\n",
    "print(\"Best Parameters for SVM:\", grid_search_svm.best_params_)"
   ]
  },
  {
   "cell_type": "code",
   "execution_count": 9,
   "id": "886dcb12-8713-43d2-9135-52d8cc66a14b",
   "metadata": {},
   "outputs": [],
   "source": [
    "df_SVM = pd.DataFrame(grid_search_svm.cv_results_)"
   ]
  },
  {
   "cell_type": "code",
   "execution_count": 10,
   "id": "1d6245f9-3270-4b14-a13a-d5e93e3078a5",
   "metadata": {},
   "outputs": [
    {
     "data": {
      "text/html": [
       "<div>\n",
       "<style scoped>\n",
       "    .dataframe tbody tr th:only-of-type {\n",
       "        vertical-align: middle;\n",
       "    }\n",
       "\n",
       "    .dataframe tbody tr th {\n",
       "        vertical-align: top;\n",
       "    }\n",
       "\n",
       "    .dataframe thead th {\n",
       "        text-align: right;\n",
       "    }\n",
       "</style>\n",
       "<table border=\"1\" class=\"dataframe\">\n",
       "  <thead>\n",
       "    <tr style=\"text-align: right;\">\n",
       "      <th></th>\n",
       "      <th>param_C</th>\n",
       "      <th>param_kernel</th>\n",
       "      <th>param_gamma</th>\n",
       "      <th>mean_test_score</th>\n",
       "    </tr>\n",
       "  </thead>\n",
       "  <tbody>\n",
       "    <tr>\n",
       "      <th>0</th>\n",
       "      <td>0.001</td>\n",
       "      <td>rbf</td>\n",
       "      <td>0.01000</td>\n",
       "      <td>0.352670</td>\n",
       "    </tr>\n",
       "    <tr>\n",
       "      <th>1</th>\n",
       "      <td>0.001</td>\n",
       "      <td>rbf</td>\n",
       "      <td>0.00100</td>\n",
       "      <td>0.578066</td>\n",
       "    </tr>\n",
       "    <tr>\n",
       "      <th>2</th>\n",
       "      <td>0.001</td>\n",
       "      <td>rbf</td>\n",
       "      <td>0.00010</td>\n",
       "      <td>0.563348</td>\n",
       "    </tr>\n",
       "    <tr>\n",
       "      <th>3</th>\n",
       "      <td>0.001</td>\n",
       "      <td>rbf</td>\n",
       "      <td>0.00001</td>\n",
       "      <td>0.556999</td>\n",
       "    </tr>\n",
       "    <tr>\n",
       "      <th>4</th>\n",
       "      <td>0.100</td>\n",
       "      <td>rbf</td>\n",
       "      <td>0.01000</td>\n",
       "      <td>0.352670</td>\n",
       "    </tr>\n",
       "    <tr>\n",
       "      <th>...</th>\n",
       "      <td>...</td>\n",
       "      <td>...</td>\n",
       "      <td>...</td>\n",
       "      <td>...</td>\n",
       "    </tr>\n",
       "    <tr>\n",
       "      <th>67</th>\n",
       "      <td>10.000</td>\n",
       "      <td>linear</td>\n",
       "      <td>NaN</td>\n",
       "      <td>0.761328</td>\n",
       "    </tr>\n",
       "    <tr>\n",
       "      <th>68</th>\n",
       "      <td>25.000</td>\n",
       "      <td>linear</td>\n",
       "      <td>NaN</td>\n",
       "      <td>0.759019</td>\n",
       "    </tr>\n",
       "    <tr>\n",
       "      <th>69</th>\n",
       "      <td>50.000</td>\n",
       "      <td>linear</td>\n",
       "      <td>NaN</td>\n",
       "      <td>0.759307</td>\n",
       "    </tr>\n",
       "    <tr>\n",
       "      <th>70</th>\n",
       "      <td>100.000</td>\n",
       "      <td>linear</td>\n",
       "      <td>NaN</td>\n",
       "      <td>0.761616</td>\n",
       "    </tr>\n",
       "    <tr>\n",
       "      <th>71</th>\n",
       "      <td>1000.000</td>\n",
       "      <td>linear</td>\n",
       "      <td>NaN</td>\n",
       "      <td>0.763925</td>\n",
       "    </tr>\n",
       "  </tbody>\n",
       "</table>\n",
       "<p>72 rows × 4 columns</p>\n",
       "</div>"
      ],
      "text/plain": [
       "     param_C param_kernel  param_gamma  mean_test_score\n",
       "0      0.001          rbf      0.01000         0.352670\n",
       "1      0.001          rbf      0.00100         0.578066\n",
       "2      0.001          rbf      0.00010         0.563348\n",
       "3      0.001          rbf      0.00001         0.556999\n",
       "4      0.100          rbf      0.01000         0.352670\n",
       "..       ...          ...          ...              ...\n",
       "67    10.000       linear          NaN         0.761328\n",
       "68    25.000       linear          NaN         0.759019\n",
       "69    50.000       linear          NaN         0.759307\n",
       "70   100.000       linear          NaN         0.761616\n",
       "71  1000.000       linear          NaN         0.763925\n",
       "\n",
       "[72 rows x 4 columns]"
      ]
     },
     "execution_count": 10,
     "metadata": {},
     "output_type": "execute_result"
    }
   ],
   "source": [
    "df_SVM[['param_C','param_kernel','param_gamma','mean_test_score']]"
   ]
  }
 ],
 "metadata": {
  "kernelspec": {
   "display_name": "Python 3 (ipykernel)",
   "language": "python",
   "name": "python3"
  },
  "language_info": {
   "codemirror_mode": {
    "name": "ipython",
    "version": 3
   },
   "file_extension": ".py",
   "mimetype": "text/x-python",
   "name": "python",
   "nbconvert_exporter": "python",
   "pygments_lexer": "ipython3",
   "version": "3.13.2"
  }
 },
 "nbformat": 4,
 "nbformat_minor": 5
}
